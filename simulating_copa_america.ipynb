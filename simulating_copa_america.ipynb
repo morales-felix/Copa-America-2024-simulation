{
 "cells": [
  {
   "cell_type": "markdown",
   "metadata": {},
   "source": [
    "This simulation uses Elo ratings from <https://eloratings.net> to measure team strength and update it after each simulated game. The Elo implementation is based on FiveThirtyEight’s NFL forecasting game (<https://github.com/morales-felix/nfl-elo-game>).\n",
    "\n",
    "Notes on Elo implementation:  \n",
    "\n",
    "- Per <https://eloratings.net/about>, the K constant is set to 50 as this is a continental competition.  \n",
    "- Probabilities given by the Elo rating system are binary. I came up with a workaround to convert them to ternary probabilities given that association football (a.k.a. soccer) admits three outcomes after a match (win, tie, lose).  \n",
    "- I did not simulate scorelines. Rather, I simply used probabilities to decide whether a team would win, tie, or lose. As such, I did not use the goal difference multiplier specified in <https://eloratings.net/about>  \n",
    "- I'll be happy to talk about the workaround, but I wouldn't take it as gospel. There might be ways to do this, but I did not research it. Wanted to have fun, not produce an academic-paper-worthy method, nor a sellable product."
   ]
  },
  {
   "cell_type": "code",
   "execution_count": 1,
   "metadata": {},
   "outputs": [],
   "source": [
    "import numpy as np\n",
    "import pandas as pd\n",
    "import csv\n",
    "from tqdm import tqdm\n",
    "from joblib import Parallel, delayed\n",
    "\n",
    "from src.copa_america_simulator import *"
   ]
  },
  {
   "cell_type": "markdown",
   "metadata": {},
   "source": [
    "Since I want to simulate the group stage many times to generate a distribution of outcomes, I will use the `joblib` module to parallelize the simulation. This will allow me to run the simulation many times in a reasonable amount of time. That requires me to use a function to simulate the group stage and return the results."
   ]
  },
  {
   "cell_type": "code",
   "execution_count": 2,
   "metadata": {},
   "outputs": [],
   "source": [
    "def run_group_stage_simulation(n, j):\n",
    "    \"\"\"\n",
    "    Run a simulation of the group stage of the Copa America\n",
    "    \"\"\"\n",
    "    \n",
    "    teams_pd = pd.read_csv(\"data/roster.csv\")\n",
    "    \n",
    "    for i in range(n):\n",
    "        games = read_games(\"data/matches.csv\")\n",
    "        teams = {}\n",
    "    \n",
    "        for row in [\n",
    "            item for item in csv.DictReader(open(\"data/roster.csv\"))\n",
    "            ]:\n",
    "            teams[row['team']] = {\n",
    "                'name': row['team'],\n",
    "                'rating': float(row['rating']),\n",
    "                'points': 0\n",
    "                }\n",
    "    \n",
    "        simulate_group_stage(\n",
    "            games,\n",
    "            teams,\n",
    "            ternary=True\n",
    "            )\n",
    "    \n",
    "        collector = []\n",
    "        for key in teams.keys():\n",
    "            collector.append(\n",
    "                {\"team\": key,\n",
    "                 f\"simulation{i+1}\": teams[key]['points']}\n",
    "            )\n",
    "\n",
    "        temp = pd.DataFrame(collector)\n",
    "        teams_pd = pd.merge(teams_pd, temp)\n",
    "    \n",
    "    sim_cols = [\n",
    "        a for a in teams_pd.columns if \"simulation\" in a]\n",
    "    teams_pd[\n",
    "        f\"avg_pts_{j+1}\"\n",
    "        ] = teams_pd[sim_cols].mean(axis=1)\n",
    "    not_sim = [\n",
    "        b for b in teams_pd.columns if \"simulation\" not in b]\n",
    "    simulation_result = teams_pd[not_sim]\n",
    "    \n",
    "    return simulation_result"
   ]
  },
  {
   "cell_type": "markdown",
   "metadata": {},
   "source": [
    "### Simulate group stage"
   ]
  },
  {
   "cell_type": "markdown",
   "metadata": {},
   "source": [
    "#### The gist is to read from two files: One defining the match schedule, the other with teams and their relative strengths (given by Elo ratings prior to the start of the event)"
   ]
  },
  {
   "cell_type": "code",
   "execution_count": 3,
   "metadata": {},
   "outputs": [
    {
     "name": "stderr",
     "output_type": "stream",
     "text": [
      "100%|██████████| 100/100 [00:08<00:00, 11.27it/s]\n",
      "100%|██████████| 100/100 [00:00<00:00, 564.66it/s]\n"
     ]
    }
   ],
   "source": [
    "# Reads in the matches and teams as dictionaries and proceeds with that data type\n",
    "n = 100 # How many simulations to run\n",
    "m = 100 # How many simulation results to collect\n",
    "\n",
    "roster_pd = Parallel(n_jobs=5)(\n",
    "    delayed(run_group_stage_simulation)(\n",
    "        n, j) for j in tqdm(range(m)))\n",
    "\n",
    "for t in tqdm(range(m)):\n",
    "    if t == 0:\n",
    "        roster = pd.merge(\n",
    "            roster_pd[t],\n",
    "            roster_pd[t+1]\n",
    "            )\n",
    "    elif t >= 2:\n",
    "        roster = pd.merge(\n",
    "            roster,\n",
    "            roster_pd[t]\n",
    "            )\n",
    "    else:\n",
    "        pass"
   ]
  },
  {
   "cell_type": "code",
   "execution_count": 4,
   "metadata": {},
   "outputs": [],
   "source": [
    "sim_cols = [i for i in roster.columns if \"avg_pts\" in i]"
   ]
  },
  {
   "cell_type": "code",
   "execution_count": 5,
   "metadata": {},
   "outputs": [],
   "source": [
    "roster['avg_sim_pts'] = roster[sim_cols].mean(axis=1)\n",
    "roster['99%CI_low'] = roster[sim_cols] \\\n",
    "    .quantile(q=0.005, axis=1)\n",
    "roster['99%CI_high'] = roster[sim_cols] \\\n",
    "    .quantile(q=0.995, axis=1)"
   ]
  },
  {
   "cell_type": "code",
   "execution_count": 6,
   "metadata": {},
   "outputs": [],
   "source": [
    "not_sim = [\n",
    "    j for j in roster.columns if \"avg_pts\" not in j]"
   ]
  },
  {
   "cell_type": "markdown",
   "metadata": {},
   "source": [
    "#### Simulation is done, now take a look at the results for the group stage"
   ]
  },
  {
   "cell_type": "code",
   "execution_count": 7,
   "metadata": {},
   "outputs": [
    {
     "data": {
      "text/html": [
       "<div>\n",
       "<style scoped>\n",
       "    .dataframe tbody tr th:only-of-type {\n",
       "        vertical-align: middle;\n",
       "    }\n",
       "\n",
       "    .dataframe tbody tr th {\n",
       "        vertical-align: top;\n",
       "    }\n",
       "\n",
       "    .dataframe thead th {\n",
       "        text-align: right;\n",
       "    }\n",
       "</style>\n",
       "<table border=\"1\" class=\"dataframe\">\n",
       "  <thead>\n",
       "    <tr style=\"text-align: right;\">\n",
       "      <th></th>\n",
       "      <th>group</th>\n",
       "      <th>team</th>\n",
       "      <th>rating</th>\n",
       "      <th>avg_sim_pts</th>\n",
       "      <th>99%CI_low</th>\n",
       "      <th>99%CI_high</th>\n",
       "    </tr>\n",
       "  </thead>\n",
       "  <tbody>\n",
       "    <tr>\n",
       "      <th>13</th>\n",
       "      <td>D</td>\n",
       "      <td>Colombia</td>\n",
       "      <td>2015</td>\n",
       "      <td>6.6927</td>\n",
       "      <td>6.33990</td>\n",
       "      <td>7.20010</td>\n",
       "    </tr>\n",
       "    <tr>\n",
       "      <th>12</th>\n",
       "      <td>D</td>\n",
       "      <td>Brazil</td>\n",
       "      <td>2028</td>\n",
       "      <td>5.3841</td>\n",
       "      <td>5.06495</td>\n",
       "      <td>5.72000</td>\n",
       "    </tr>\n",
       "    <tr>\n",
       "      <th>14</th>\n",
       "      <td>D</td>\n",
       "      <td>Paraguay</td>\n",
       "      <td>1710</td>\n",
       "      <td>2.6821</td>\n",
       "      <td>2.33485</td>\n",
       "      <td>3.06010</td>\n",
       "    </tr>\n",
       "    <tr>\n",
       "      <th>15</th>\n",
       "      <td>D</td>\n",
       "      <td>Costa Rica</td>\n",
       "      <td>1620</td>\n",
       "      <td>1.4478</td>\n",
       "      <td>1.23000</td>\n",
       "      <td>1.76525</td>\n",
       "    </tr>\n",
       "    <tr>\n",
       "      <th>9</th>\n",
       "      <td>C</td>\n",
       "      <td>Uruguay</td>\n",
       "      <td>1992</td>\n",
       "      <td>6.7087</td>\n",
       "      <td>6.28960</td>\n",
       "      <td>7.13545</td>\n",
       "    </tr>\n",
       "    <tr>\n",
       "      <th>8</th>\n",
       "      <td>C</td>\n",
       "      <td>United States</td>\n",
       "      <td>1790</td>\n",
       "      <td>4.7133</td>\n",
       "      <td>4.31495</td>\n",
       "      <td>5.30020</td>\n",
       "    </tr>\n",
       "    <tr>\n",
       "      <th>10</th>\n",
       "      <td>C</td>\n",
       "      <td>Panama</td>\n",
       "      <td>1698</td>\n",
       "      <td>2.8759</td>\n",
       "      <td>2.47980</td>\n",
       "      <td>3.32050</td>\n",
       "    </tr>\n",
       "    <tr>\n",
       "      <th>11</th>\n",
       "      <td>C</td>\n",
       "      <td>Bolivia</td>\n",
       "      <td>1592</td>\n",
       "      <td>1.8332</td>\n",
       "      <td>1.42475</td>\n",
       "      <td>2.18030</td>\n",
       "    </tr>\n",
       "    <tr>\n",
       "      <th>5</th>\n",
       "      <td>B</td>\n",
       "      <td>Ecuador</td>\n",
       "      <td>1876</td>\n",
       "      <td>5.7484</td>\n",
       "      <td>5.23900</td>\n",
       "      <td>6.11535</td>\n",
       "    </tr>\n",
       "    <tr>\n",
       "      <th>4</th>\n",
       "      <td>B</td>\n",
       "      <td>Mexico</td>\n",
       "      <td>1791</td>\n",
       "      <td>4.5900</td>\n",
       "      <td>4.05940</td>\n",
       "      <td>4.98070</td>\n",
       "    </tr>\n",
       "    <tr>\n",
       "      <th>6</th>\n",
       "      <td>B</td>\n",
       "      <td>Venezuela</td>\n",
       "      <td>1744</td>\n",
       "      <td>3.3753</td>\n",
       "      <td>2.98990</td>\n",
       "      <td>3.92070</td>\n",
       "    </tr>\n",
       "    <tr>\n",
       "      <th>7</th>\n",
       "      <td>B</td>\n",
       "      <td>Jamaica</td>\n",
       "      <td>1642</td>\n",
       "      <td>2.3181</td>\n",
       "      <td>1.92495</td>\n",
       "      <td>2.70010</td>\n",
       "    </tr>\n",
       "    <tr>\n",
       "      <th>0</th>\n",
       "      <td>A</td>\n",
       "      <td>Argentina</td>\n",
       "      <td>2144</td>\n",
       "      <td>6.7641</td>\n",
       "      <td>6.52495</td>\n",
       "      <td>7.04515</td>\n",
       "    </tr>\n",
       "    <tr>\n",
       "      <th>2</th>\n",
       "      <td>A</td>\n",
       "      <td>Chile</td>\n",
       "      <td>1725</td>\n",
       "      <td>3.5533</td>\n",
       "      <td>3.11475</td>\n",
       "      <td>3.95515</td>\n",
       "    </tr>\n",
       "    <tr>\n",
       "      <th>1</th>\n",
       "      <td>A</td>\n",
       "      <td>Peru</td>\n",
       "      <td>1744</td>\n",
       "      <td>3.0522</td>\n",
       "      <td>2.73990</td>\n",
       "      <td>3.53040</td>\n",
       "    </tr>\n",
       "    <tr>\n",
       "      <th>3</th>\n",
       "      <td>A</td>\n",
       "      <td>Canada</td>\n",
       "      <td>1721</td>\n",
       "      <td>2.6539</td>\n",
       "      <td>2.27465</td>\n",
       "      <td>3.03000</td>\n",
       "    </tr>\n",
       "  </tbody>\n",
       "</table>\n",
       "</div>"
      ],
      "text/plain": [
       "   group           team  rating  avg_sim_pts  99%CI_low  99%CI_high\n",
       "13     D       Colombia    2015       6.6927    6.33990     7.20010\n",
       "12     D         Brazil    2028       5.3841    5.06495     5.72000\n",
       "14     D       Paraguay    1710       2.6821    2.33485     3.06010\n",
       "15     D     Costa Rica    1620       1.4478    1.23000     1.76525\n",
       "9      C        Uruguay    1992       6.7087    6.28960     7.13545\n",
       "8      C  United States    1790       4.7133    4.31495     5.30020\n",
       "10     C         Panama    1698       2.8759    2.47980     3.32050\n",
       "11     C        Bolivia    1592       1.8332    1.42475     2.18030\n",
       "5      B        Ecuador    1876       5.7484    5.23900     6.11535\n",
       "4      B         Mexico    1791       4.5900    4.05940     4.98070\n",
       "6      B      Venezuela    1744       3.3753    2.98990     3.92070\n",
       "7      B        Jamaica    1642       2.3181    1.92495     2.70010\n",
       "0      A      Argentina    2144       6.7641    6.52495     7.04515\n",
       "2      A          Chile    1725       3.5533    3.11475     3.95515\n",
       "1      A           Peru    1744       3.0522    2.73990     3.53040\n",
       "3      A         Canada    1721       2.6539    2.27465     3.03000"
      ]
     },
     "execution_count": 7,
     "metadata": {},
     "output_type": "execute_result"
    }
   ],
   "source": [
    "roster[not_sim].sort_values(\n",
    "    by=[\n",
    "        'group',\n",
    "        'avg_sim_pts'\n",
    "        ],\n",
    "    ascending=False\n",
    "    )"
   ]
  },
  {
   "cell_type": "markdown",
   "metadata": {},
   "source": [
    "You can see that:  \n",
    "- Group A should see Argentina easily top the group. However, while Chile has a clear edge over Peru, it's not definitive since the confidence intervals between the two overlap. Canada should definitely end up in last place.  \n",
    "- Group B should definitely be: Ecuador, Mexico, Venezuela and Jamaica. No overlap in confidence intervals, and if we look at their team strengths, it's clear the Ecuador tops the group. Although I would say this is the sleeper group... lower team strength of the tournament overall.  \n",
    "- Group C should definitely be: Uruguay, United States, Panama, and Bolivia. Panama might at best get a win against Bolivia, just like the 2016 Copa America (when it drew against eventual finalists Argentina and Chile).  \n",
    "- Group D should definitely be: Colombia, Brazil, Paraguay, Costa Rica.  \n",
    "\n",
    "I guess the Euros are a bit more interesting..."
   ]
  },
  {
   "cell_type": "markdown",
   "metadata": {},
   "source": [
    "### Simulating knockout stage  \n",
    "Here's where it gets interesting"
   ]
  },
  {
   "cell_type": "code",
   "execution_count": 8,
   "metadata": {},
   "outputs": [
    {
     "name": "stderr",
     "output_type": "stream",
     "text": [
      "100%|██████████| 10000/10000 [01:22<00:00, 121.79it/s]\n"
     ]
    }
   ],
   "source": [
    "# Now, doing the Monte Carlo simulations\n",
    "n = 10000\n",
    "playoff_results_teams = []\n",
    "playoff_results_stage = []\n",
    "\n",
    "for i in tqdm(range(n)):\n",
    "    overall_result_teams = dict()\n",
    "    overall_result_stage = dict()\n",
    "    games = read_games(\"data/playoff_matches1.csv\")\n",
    "    teams = {}\n",
    "    \n",
    "    for row in [\n",
    "        item for item in csv.DictReader(open(\"data/playoff_roster1.csv\"))]:\n",
    "        teams[row['team']] = {\n",
    "            'name': row['team'],\n",
    "            'rating': float(row['rating'])\n",
    "            }\n",
    "    \n",
    "    simulate_playoffs(games, teams, ternary=True)\n",
    "    \n",
    "    playoff_pd = pd.DataFrame(games)\n",
    "    \n",
    "    # This is for collecting results of simulations per team\n",
    "    for key in teams.keys():\n",
    "        overall_result_teams[key] = collect_playoff_results(\n",
    "            key,\n",
    "            playoff_pd\n",
    "            )\n",
    "    playoff_results_teams.append(overall_result_teams)\n",
    "    \n",
    "    # Now, collecting results from stage-perspective\n",
    "    overall_result_stage['whole_bracket'] = playoff_pd['advances'].to_list()\n",
    "    overall_result_stage['Semifinals'] = playoff_pd.loc[playoff_pd['stage'] == 'quarterfinals', 'advances'].to_list()\n",
    "    overall_result_stage['Final'] = playoff_pd.loc[playoff_pd['stage'] == 'semifinals', 'advances'].to_list()\n",
    "    overall_result_stage['third_place_match'] = playoff_pd.loc[playoff_pd['stage'] == 'semifinals', 'loses'].to_list()\n",
    "    overall_result_stage['fourth_place'] = playoff_pd.loc[playoff_pd['stage'] == 'third_place', 'loses'].to_list()[0]\n",
    "    overall_result_stage['third_place'] = playoff_pd.loc[playoff_pd['stage'] == 'third_place', 'advances'].to_list()[0]\n",
    "    overall_result_stage['second_place'] = playoff_pd.loc[playoff_pd['stage'] == 'final', 'loses'].to_list()[0]\n",
    "    overall_result_stage['Champion'] = playoff_pd.loc[playoff_pd['stage'] == 'final', 'advances'].to_list()[0]\n",
    "    overall_result_stage['match4'] = list(playoff_pd.loc[4, ['home_team', 'away_team']])\n",
    "    overall_result_stage['match5'] = list(playoff_pd.loc[5, ['home_team', 'away_team']])\n",
    "    \n",
    "    playoff_results_stage.append(overall_result_stage)"
   ]
  },
  {
   "cell_type": "code",
   "execution_count": 9,
   "metadata": {},
   "outputs": [],
   "source": [
    "results_teams = pd.DataFrame(playoff_results_teams)"
   ]
  },
  {
   "cell_type": "code",
   "execution_count": 14,
   "metadata": {},
   "outputs": [
    {
     "data": {
      "text/plain": [
       "Argentina\n",
       "Champion         0.5527\n",
       "Second_place     0.2545\n",
       "Quarterfinals    0.0810\n",
       "Third_place      0.0801\n",
       "Fourth_place     0.0317\n",
       "Name: proportion, dtype: float64"
      ]
     },
     "execution_count": 14,
     "metadata": {},
     "output_type": "execute_result"
    }
   ],
   "source": [
    "results_teams['Argentina'].value_counts(normalize=True)"
   ]
  },
  {
   "cell_type": "code",
   "execution_count": 11,
   "metadata": {},
   "outputs": [],
   "source": [
    "results_stage = pd.DataFrame(playoff_results_stage)"
   ]
  },
  {
   "cell_type": "code",
   "execution_count": 15,
   "metadata": {},
   "outputs": [
    {
     "data": {
      "text/plain": [
       "Champion\n",
       "Argentina        0.5527\n",
       "Colombia         0.1459\n",
       "Brazil           0.1133\n",
       "Uruguay          0.0936\n",
       "Ecuador          0.0591\n",
       "Mexico           0.0174\n",
       "Chile            0.0116\n",
       "United States    0.0064\n",
       "Name: proportion, dtype: float64"
      ]
     },
     "execution_count": 15,
     "metadata": {},
     "output_type": "execute_result"
    }
   ],
   "source": [
    "results_stage['Champion'].value_counts(normalize=True)"
   ]
  }
 ],
 "metadata": {
  "kernelspec": {
   "display_name": "Python 3 (ipykernel)",
   "language": "python",
   "name": "python3"
  },
  "language_info": {
   "codemirror_mode": {
    "name": "ipython",
    "version": 3
   },
   "file_extension": ".py",
   "mimetype": "text/x-python",
   "name": "python",
   "nbconvert_exporter": "python",
   "pygments_lexer": "ipython3",
   "version": "3.10.14"
  },
  "vscode": {
   "interpreter": {
    "hash": "bf6434c5a1aa7c8e434dd054297a02391e6efb1cc4c519f6d78eae818bb65a96"
   }
  }
 },
 "nbformat": 4,
 "nbformat_minor": 2
}
